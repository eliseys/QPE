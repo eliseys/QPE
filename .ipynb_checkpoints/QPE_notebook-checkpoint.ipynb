{
 "cells": [
  {
   "cell_type": "code",
   "execution_count": 4,
   "metadata": {
    "autoscroll": false,
    "collapsed": false,
    "ein.hycell": false,
    "ein.tags": "worksheet-0",
    "slideshow": {
     "slide_type": "-"
    }
   },
   "outputs": [
    {
     "name": "stdout",
     "output_type": "stream",
     "text": [
      "r_star, R_sun \t\t 5.0\n",
      "r_star/R_g \t\t 0.2355709750522272\n",
      "T at last stable circular orbit \t 4548.375056419995 s\n",
      "V_orb at R_min \t\t 72096.79577933259 km / s\n",
      "R_orb_min/R_tde \t 0.9908809236576431\n",
      "R_tde, R_g \t\t 23.557097505222714\n"
     ]
    }
   ],
   "source": [
    "import numpy as np\n",
    "from astropy import constants as const\n",
    "\n",
    "\n",
    "\n",
    "# \"second\" это размерная переменная, размерность --- секунда\n",
    "second = (const.au/const.c)/499.00478383615643\n",
    "# \"day\" это 86400 секунд, размерность --- секунда\n",
    "day = 86400 * second\n",
    "\n",
    "\n",
    "\n",
    "# определения разных функций, названия говорят сами за себя\n",
    "# аргументы функций и возвращаемое значение размерные, в СГС\n",
    "\n",
    "# mu = m*G, где m это масса тела, G --- гравитационная постоянная\n",
    "# a --- большая полуось эллиптической орбиты, см\n",
    "# r --- текущий радиус эллиптической орбиты, см\n",
    "# T --- период движения по эллиптической орбите, с\n",
    "\n",
    "def orbital_velocity(mu, r, a):\n",
    "    return np.sqrt(mu*(2/r-1/a))\n",
    "\n",
    "def orbital_period(mu, a):\n",
    "    return 2*np.pi*np.sqrt(a**3/mu)\n",
    "\n",
    "def main_semiaxis(T, mu):\n",
    "    return np.power((mu*T**2)/(4*np.pi**2), 1/3)\n",
    "\n",
    "def tde_radius(m_bh, m_star, r_star):\n",
    "    return np.power(m_bh/m_star, 1/3)*r_star\n",
    "\n",
    "\n",
    "# масса чёрной дыры, г\n",
    "# assumed 10**4 -- 10**7 M_sun \n",
    "m_bh = 10**7 * const.M_sun.cgs\n",
    "\n",
    "# масса звезды, г\n",
    "m_star = 10.0 * const.M_sun.cgs\n",
    "\n",
    "# радиус звезды, см\n",
    "# для массы 10 M_sun, R ~ 5 R_sun (arXiv:1807.02568v1)\n",
    "r_star = 5.0 * const.R_sun.cgs\n",
    "\n",
    "\n",
    "mu = const.G.cgs * m_bh\n",
    "\n",
    "\n",
    "T = (18.5/24.0) * day\n",
    "a = main_semiaxis(T, mu)\n",
    "\n",
    "# точка перихола\n",
    "r_min = 0.65*a\n",
    "\n",
    "\n",
    "print(\"r_star, R_sun\", \"\\t\\t\", r_star/const.R_sun.cgs)\n",
    "print(\"r_star/R_g\", \"\\t\\t\",  r_star/(const.G.cgs*m_bh/(const.c.cgs**2)))\n",
    "\n",
    "\n",
    "\n",
    "\n",
    "print(\"T at last stable circular orbit\", \"\\t\", orbital_period(mu, 6.0*(const.G.cgs*m_bh/(const.c.cgs**2))))\n",
    "\n",
    "\n",
    "print(\"V_orb at R_min\", \"\\t\\t\", orbital_velocity(mu, r_min, a).to('km/s'))\n",
    "\n",
    "print(\"R_orb_min/R_tde\", \"\\t\", r_min/tde_radius(m_bh, m_star, r_star))\n",
    "\n",
    "print(\"R_tde, R_g\", \"\\t\\t\",  tde_radius(m_bh, m_star, r_star)/(const.G.cgs*m_bh/(const.c.cgs**2)))\n",
    "\n",
    "\n",
    "\n",
    "\n"
   ]
  },
  {
   "cell_type": "code",
   "execution_count": null,
   "metadata": {
    "autoscroll": false,
    "collapsed": false,
    "ein.hycell": false,
    "ein.tags": "worksheet-0",
    "slideshow": {
     "slide_type": "-"
    }
   },
   "outputs": [],
   "source": []
  }
 ],
 "metadata": {
  "kernelspec": {
   "argv": [
    "/usr/bin/python3",
    "-m",
    "ipykernel_launcher",
    "-f",
    "{connection_file}"
   ],
   "display_name": "Python 3",
   "env": null,
   "interrupt_mode": "signal",
   "language": "python",
   "metadata": null,
   "name": "python3"
  },
  "name": "Untitled.ipynb"
 },
 "nbformat": 4,
 "nbformat_minor": 4
}
